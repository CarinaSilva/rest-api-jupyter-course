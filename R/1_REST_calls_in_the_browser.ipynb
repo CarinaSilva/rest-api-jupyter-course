{
  "cells": [
    {
      "metadata": {
        "collapsed": true
      },
      "cell_type": "markdown",
      "source": "# Ensembl REST API course\n\nWelcome to the Ensembl REST API course. This Jupyter notebook contains all you need to complete this course, including sample code, space to write your own code and sample answers, which can all be run within the notebook in R.\n\nTo run the code within a cell, select it and hit Run.\n\n## REST calls in the browser\n\nOur first REST call will be the ping call which checks your connection to the database:\n\nhttp://rest.ensembl.org/info/ping?content-type=application/json\n\nOur next call will get information about a gene, using the Ensembl gene ID:\n\nhttp://rest.ensembl.org/lookup/id/ENSG00000157764?content-type=application/json\n\n## Exercises\n\nThe first set of exercises just use URLs in the browser. You cannot do these within the Python notebook, however we have provided a box where you can note them down.\n\n1. Find an endpoint which you can use to lookup information about a gene using its symbol.\n2. Create a URL to find information about the gene *ESPN* in human.\n3. Expand your results to include information about transcripts.\n\nAnswers:"
    },
    {
      "metadata": {},
      "cell_type": "markdown",
      "source": "1.\n\n2.\n\n3.\n\nNext page: [Making requests with R](2_Making_requests_with_R.ipynb)"
    }
  ],
  "metadata": {
    "kernelspec": {
      "name": "r",
      "display_name": "R",
      "language": "R"
    },
    "language_info": {
      "mimetype": "text/x-r-source",
      "name": "R",
      "pygments_lexer": "r",
      "version": "3.5.3",
      "file_extension": ".r",
      "codemirror_mode": "r"
    }
  },
  "nbformat": 4,
  "nbformat_minor": 2
}