{
  "cells": [
    {
      "metadata": {
        "collapsed": true
      },
      "cell_type": "markdown",
      "source": "# Linking endpoints together\n\nIf you can pull a datapoint from the json, you can use it as input for another endpoint.\n\nFor example, this script gets the symbol of a gene then looks up xrefs associated with it:"
    },
    {
      "metadata": {
        "trusted": true
      },
      "cell_type": "code",
      "source": "library(httr)\nlibrary(jsonlite)\n\nfetch_endpoint <- function(server, request, content_type){\n\n    r <- GET(paste(server, request, sep = \"\"), accept(content_type))\n\n    stop_for_status(r)\n\n    if (content_type == 'application/json'){\n        return (fromJSON(content(r, \"text\", encoding = \"UTF-8\")))\n    } else {\n        return (content(r, \"text\", encoding = \"UTF-8\"))\n    }\n}\n\nserver <- \"http://rest.ensembl.org/\"\ngene_ext <- \"lookup/id/ENSG00000157764?\"\ncon <- \"application/json\"\nget_gene <- fetch_endpoint(server, gene_ext, con)\n\nsymbol <- get_gene$display_name\n\nxrefs_ext <- paste(\"xrefs/symbol/human/\", symbol, \"?\", sep =\"\")\nget_xrefs <- fetch_endpoint(server, xrefs_ext, con)\n\nprettify(toJSON(get_xrefs))",
      "execution_count": null,
      "outputs": []
    },
    {
      "metadata": {},
      "cell_type": "markdown",
      "source": "## Exercises 5\n\n1\\. Using the script from 3.1, add a call to fetch and print the sequence for the gene *ESPN* in FASTA."
    },
    {
      "metadata": {
        "trusted": true
      },
      "cell_type": "code",
      "source": "# Exercise 5.1",
      "execution_count": null,
      "outputs": []
    },
    {
      "metadata": {},
      "cell_type": "markdown",
      "source": "2\\. Print the stable ID of any regulatory features that overlap the region 1000 bp upstream of the *ESPN* gene. (Hints: get the gene ID first, then check the strand of the gene to see which way is upstream.)"
    },
    {
      "metadata": {
        "trusted": true
      },
      "cell_type": "code",
      "source": "# Exercise 5.2",
      "execution_count": null,
      "outputs": []
    },
    {
      "metadata": {},
      "cell_type": "markdown",
      "source": "[Next page: Exercises 5 - answers](5_Linking_endpoints_together_answers.ipynb)"
    }
  ],
  "metadata": {
    "kernelspec": {
      "name": "r",
      "display_name": "R",
      "language": "R"
    },
    "language_info": {
      "mimetype": "text/x-r-source",
      "name": "R",
      "pygments_lexer": "r",
      "version": "3.5.3",
      "file_extension": ".r",
      "codemirror_mode": "r"
    }
  },
  "nbformat": 4,
  "nbformat_minor": 2
}