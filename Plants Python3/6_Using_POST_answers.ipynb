{
  "cells": [
    {
      "metadata": {},
      "cell_type": "markdown",
      "source": "## Exercises 6 – answers\n\n1\\. Fetch the all the transcripts of BCH1 using the lookup function. Fetch the cDNA sequences of all transcripts using a single POST request, and print in FASTA format."
    },
    {
      "metadata": {
        "trusted": true
      },
      "cell_type": "code",
      "source": "import requests, sys, json\nfrom pprint import pprint\n\ndef fetch_endpoint(server, request, content_type):\n\n    r = requests.get(server+request, headers={ \"Accept\" : content_type})\n\n    if not r.ok:\n        r.raise_for_status()\n        sys.exit()\n\n    if content_type == 'application/json':\n        return r.json()\n    else:\n        return r.text\n\ndef fetch_endpoint_POST(server, request, data, content_type):\n\n    r = requests.post(server+request,\n                      headers={ \"Accept\" : content_type},\n                      data=data )\n\n    if not r.ok:\n        r.raise_for_status()\n        sys.exit()\n\n    if content_type == 'application/json':\n        return r.json()\n    else:\n        return r.text\n    \n# Get the gene name\ngene_name = \"BCH1\"\ntranscripts = []\n\n# define the general URL parameters\nserver = \"http://rest.ensembl.org/\"\ncon = \"application/json\"\next_get_gene = \"lookup/symbol/hordeum_vulgare/\" + gene_name + \"?expand=1;\"\n\nget_gene = fetch_endpoint(server, ext_get_gene, con)\n\nfor transcript in get_gene['Transcript']:\n    transcripts.append(transcript['id'])\n \ndata = json.dumps({ \"ids\" : transcripts })\n\next_sequence = \"/sequence/id/\"\n\nsequences = fetch_endpoint_POST(server, ext_sequence, data, con)\n\nfor query in sequences:\n    print (\">\", query['id'])\n    print (query['seq'])",
      "execution_count": null,
      "outputs": []
    },
    {
      "metadata": {},
      "cell_type": "markdown",
      "source": "2\\. You have the following list of  *Sorghum bicolor* variants:\n```tmp_3_5074295_G_A, tmp_3_5074341_T_G, tmp_3_5074428_A_CG, tmp_3_5074453_C_A, S10_10039859```. Get the variant class, source and the most_severe_consequence for all variants using the variant POST endpoint."
    },
    {
      "metadata": {
        "trusted": true
      },
      "cell_type": "code",
      "source": "import requests, sys, json\nfrom pprint import pprint\n\ndef fetch_endpoint(server, request, content_type):\n\n    r = requests.get(server+request, headers={ \"Accept\" : content_type})\n\n    if not r.ok:\n        r.raise_for_status()\n        sys.exit()\n\n    if content_type == 'application/json':\n        return r.json()\n    else:\n        return r.text\n\ndef fetch_endpoint_POST(server, request, data, content_type):\n\n    r = requests.post(server+request,\n                      headers={ \"Accept\" : content_type},\n                      data=data )\n\n    if not r.ok:\n        r.raise_for_status()\n        sys.exit()\n\n    if content_type == 'application/json':\n        return r.json()\n    else:\n        return r.text\n\nserver = \"http://rest.ensembl.org/\"\ncon = \"application/json\"\n\nvariant_ids = [\"tmp_3_5074295_G_A\", \"tmp_3_5074341_T_G\", \"tmp_3_5074428_A_CG\", \"tmp_3_5074453_C_A\", \"S10_10039859\"]\n\ndata = json.dumps({ \"ids\" : variant_ids })\n\nvar_ext = \"variation/sorghum_bicolor\"\n\npost_variants = fetch_endpoint_POST(server, var_ext, data, con)\n\nprint (\"ID\\tClass\\tSource\\tMost severe consequence\")\n\nfor key, value in post_variants.items():\n \n    id = post_variants[key]['name']\n    cls = post_variants[key]['var_class']\n    source = post_variants[key]['source']\n    severe = post_variants[key]['most_severe_consequence']\n \n    print (id + \"\\t\" + cls + \"\\t\" + source + \"\\t\" + severe)",
      "execution_count": null,
      "outputs": []
    },
    {
      "metadata": {},
      "cell_type": "markdown",
      "source": "[Next page: Rate limiting](7_Rate_limiting.ipynb)"
    }
  ],
  "metadata": {
    "kernelspec": {
      "name": "python3",
      "display_name": "Python 3",
      "language": "python"
    },
    "language_info": {
      "mimetype": "text/x-python",
      "nbconvert_exporter": "python",
      "name": "python",
      "pygments_lexer": "ipython3",
      "version": "3.5.4",
      "file_extension": ".py",
      "codemirror_mode": {
        "version": 3,
        "name": "ipython"
      }
    }
  },
  "nbformat": 4,
  "nbformat_minor": 2
}