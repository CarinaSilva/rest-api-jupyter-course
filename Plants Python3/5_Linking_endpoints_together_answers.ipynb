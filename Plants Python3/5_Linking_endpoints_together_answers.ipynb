{
  "cells": [
    {
      "metadata": {},
      "cell_type": "markdown",
      "source": "## Exercises 5 - answers\n\n1\\. Using the script from 3.1, add a call to fetch and print the sequence for the gene BCH1 in FASTA format."
    },
    {
      "metadata": {
        "trusted": true
      },
      "cell_type": "code",
      "source": "import requests, sys, json\nfrom pprint import pprint\n\n\ndef fetch_endpoint(server, request, content_type):\n\n    r = requests.get(server+request, headers={ \"Accept\" : content_type})\n\n    if not r.ok:\n        r.raise_for_status()\n        sys.exit()\n\n    if content_type == 'application/json':\n        return r.json()\n    else:\n        return r.text\n\n# Get the gene name\ngene_name = \"BCH1\"\n\n# define the general URL parameters\nserver = \"http://rest.ensembl.org/\"\ncon = \"application/json\"\next_get_lookup = \"lookup/symbol/hordeum_vulgare/\" + gene_name + \"?\"\n\n# submit the query\nget_lookup = fetch_endpoint(server, ext_get_lookup, con)\n\n# define the REST query to get the sequence from the gene\next_get_seq = \"/sequence/id/\" + get_lookup['id'] + \"?\";\nget_seq = fetch_endpoint(server, ext_get_seq, \"text/x-fasta\")\n\n# print the gene name, ID and sequence\nprint (get_seq)",
      "execution_count": null,
      "outputs": []
    },
    {
      "metadata": {},
      "cell_type": "markdown",
      "source": "2\\. Print the stable ID of any variants that overlap the region 5000 bp upstream of the Brachypodium BRADI_5g16840v3 gene. (Hints: get the gene ID first, then check the strand of the gene to see which way is upstream.)"
    },
    {
      "metadata": {
        "trusted": true
      },
      "cell_type": "code",
      "source": "import requests, sys, json\nfrom pprint import pprint\n\ndef fetch_endpoint(server, request, content_type):\n\n    r = requests.get(server+request, headers={ \"Accept\" : content_type})\n\n    if not r.ok:\n        r.raise_for_status()\n        sys.exit()\n\n    if content_type == 'application/json':\n        return r.json()\n    else:\n        return r.text\n\nserver = \"http://rest.ensembl.org/\"\ncon = \"application/json\"\n\ngene_id = \"BRADI_5g16840v3\"\next_get_lookup = \"lookup/id/\" + gene_id + \"?\"\nget_lookup = fetch_endpoint(server, ext_get_lookup, con)\n\nif get_lookup['strand'] == 1:\n    locus = str(get_lookup['seq_region_name']) + \":\" + str(get_lookup['start'] - 5000) + \"-\" + str(get_lookup['start'])\n\nelse:\n    locus =  str(get_lookup['seq_region_name']) + \":\" + str(get_lookup['end']) + \"-\" + str(get_lookup['end'] + 5000)\n\noverlap_ext = \"overlap/region/brachypodium_distachyon/\" + locus + \"?feature=variation;\"\n\nget_overlap = fetch_endpoint(server, overlap_ext, con)\n\nfor var in get_overlap:\n    id = var['id']\n    print (id)",
      "execution_count": null,
      "outputs": []
    },
    {
      "metadata": {},
      "cell_type": "markdown",
      "source": "[Next page: Using POST](6_Using_POST.ipynb)"
    }
  ],
  "metadata": {
    "kernelspec": {
      "name": "python3",
      "display_name": "Python 3",
      "language": "python"
    },
    "language_info": {
      "mimetype": "text/x-python",
      "nbconvert_exporter": "python",
      "name": "python",
      "file_extension": ".py",
      "version": "3.5.4",
      "pygments_lexer": "ipython3",
      "codemirror_mode": {
        "version": 3,
        "name": "ipython"
      }
    }
  },
  "nbformat": 4,
  "nbformat_minor": 2
}