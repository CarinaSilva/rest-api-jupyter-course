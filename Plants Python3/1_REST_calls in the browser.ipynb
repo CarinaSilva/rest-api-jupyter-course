{
  "cells": [
    {
      "metadata": {},
      "cell_type": "markdown",
      "source": "# Ensembl REST API course\n\nWelcome to the Ensembl REST API course. This Jupyter notebook contains all you need to complete this course, including sample code, space to write your own code and sample answers, which can all be run within the notebook in Python.\n\nTo run the code within a cell, select it and hit Run.\n\n## REST calls in the browser\n\nOur first REST call will be the [ping call](http://rest.ensembl.org/documentation/info/ping) which checks your connection to the database:\n\n[http://rest.ensembl.org/info/ping?content-type=application/json](http://rest.ensembl.org/info/ping?content-type=application/json)\n\nOur next call will [get information about a gene](http://rest.ensembl.org/documentation/info/lookup), using the Ensembl gene ID:\n\n[http://rest.ensembl.org/lookup/id/TraesCS3D02G007500?content-type=application/json](http://rest.ensembl.org/lookup/id/TraesCS3D02G007500?content-type=application/json)\n\n## Exercises\n\nThe first set of exercises just use URLs in the browser. You cannot do these within the Python notebook, however we have provided a box where you can note them down.\n\n1. Find an endpoint which you can use to lookup information about a gene using its symbol.\n2. Create a URL to find information about the gene BCH1 in barley (Hordeum vulgare).\n3. Expand your results to include information about transcripts.\n\nAnswers:"
    },
    {
      "metadata": {},
      "cell_type": "markdown",
      "source": "1. "
    },
    {
      "metadata": {},
      "cell_type": "markdown",
      "source": "2. "
    },
    {
      "metadata": {},
      "cell_type": "markdown",
      "source": "3. "
    },
    {
      "metadata": {},
      "cell_type": "markdown",
      "source": "[Next page: Making requests with Python](2_Making_requests_with_python.ipynb)"
    }
  ],
  "metadata": {
    "kernelspec": {
      "name": "python3",
      "display_name": "Python 3",
      "language": "python"
    },
    "language_info": {
      "mimetype": "text/x-python",
      "nbconvert_exporter": "python",
      "name": "python",
      "pygments_lexer": "ipython3",
      "version": "3.5.4",
      "file_extension": ".py",
      "codemirror_mode": {
        "version": 3,
        "name": "ipython"
      }
    }
  },
  "nbformat": 4,
  "nbformat_minor": 2
}