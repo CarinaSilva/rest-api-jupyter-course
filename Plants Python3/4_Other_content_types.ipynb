{
  "cells": [
    {
      "metadata": {},
      "cell_type": "markdown",
      "source": "# Other content types\n\nIf you specify another content type (not json), the helper function will get you this as text\nThis can be used to get:\n* Sequence in FASTA\n* Gene trees and homologues in various formats\n* Alignments\n\n```\n    if content_type == 'application/json':\n        return r.json()\n    else:\n        return r.text\n```\nThe [REST documentation](https://github.com/Ensembl/ensembl-rest/wiki/Output-formats) lists how you specify the output formats.\n\nFor example, to get genome features in BED, you need to specify the content type as `text/x-bed` not just `bed`:"
    },
    {
      "metadata": {
        "trusted": true
      },
      "cell_type": "code",
      "source": "import requests, sys, json\n\ndef fetch_endpoint(server, request, content_type):\n\n    r = requests.get(server+request, headers={ \"Accept\" : content_type})\n\n    if not r.ok:\n        r.raise_for_status()\n        sys.exit()\n\n    if content_type == 'application/json':\n        return r.json()\n    else:\n        return r.text\n\nlocus = \"2:6129736..6845617\"\nserver = \"http://rest.ensembl.org/\"\next_get_bed = \"overlap/region/oryza_sativa/\" + locus + \"?feature=repeat\";\n\nget_bed = fetch_endpoint(server, ext_get_bed, \"text/x-bed\")\n\n# print the bed file\nprint (get_bed)",
      "execution_count": null,
      "outputs": []
    },
    {
      "metadata": {},
      "cell_type": "markdown",
      "source": "## Exercises 4 \n\n1\\. Get the gene tree predicted for the gene Pp3c2_11370 in full nh format. "
    },
    {
      "metadata": {
        "trusted": true
      },
      "cell_type": "code",
      "source": "# Exercise 4.1",
      "execution_count": null,
      "outputs": []
    },
    {
      "metadata": {},
      "cell_type": "markdown",
      "source": "2\\. Get the sequence of the gene TraesCS4A02G446800 in FASTA format."
    },
    {
      "metadata": {
        "trusted": true
      },
      "cell_type": "code",
      "source": "# Exercise 4.2",
      "execution_count": null,
      "outputs": []
    },
    {
      "metadata": {},
      "cell_type": "markdown",
      "source": "[Next page: Exercises 4 – answers](4_Other_content_types_answers.ipynb)"
    }
  ],
  "metadata": {
    "kernelspec": {
      "name": "python3",
      "display_name": "Python 3",
      "language": "python"
    },
    "language_info": {
      "mimetype": "text/x-python",
      "nbconvert_exporter": "python",
      "name": "python",
      "file_extension": ".py",
      "version": "3.5.4",
      "pygments_lexer": "ipython3",
      "codemirror_mode": {
        "version": 3,
        "name": "ipython"
      }
    }
  },
  "nbformat": 4,
  "nbformat_minor": 2
}