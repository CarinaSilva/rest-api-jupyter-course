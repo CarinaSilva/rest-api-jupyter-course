{
  "cells": [
    {
      "metadata": {},
      "cell_type": "markdown",
      "source": "# Rate limiting\n\nRequests are rate limited to prevent a single user from monopolising the resources.\n\nResponse headers show we are allowed 55000 requests over an hour (3600 seconds): an average 15 requests per second.\n\n## Exercises 7\n\nThis script queries the ping endpoint 25 times, printing the count, the HTTP Status Code, and the X-RateLimit-Remaining header each time.\n\n1\\. Increase the number of loops, do you start to get 429 errors?\n\n2\\. Can you add in a step to make it wait a few seconds every iteration? Or every 100 iterations?"
    },
    {
      "metadata": {
        "trusted": true
      },
      "cell_type": "code",
      "source": "# Exercise 7.1\nimport requests, sys, time\n\nserver = \"http://rest.ensembl.org/\"\ncon = \"application/json\"\next_ping = \"/info/ping?\"\n\nx = 0\n\nwhile x < 25:\n\n    # submit the query\n    ping = requests.get(server+ext_ping, headers={ \"Accept\" : con})\n    x += 1\n    print (\"count:\", x, \"status:\", ping.status_code, \"remaining:\", ping.headers['X-RateLimit-Remaining'])",
      "execution_count": null,
      "outputs": []
    },
    {
      "metadata": {},
      "cell_type": "markdown",
      "source": "[Next page: Exercises 7 – answers](7_Rate_limiting_answers.ipynb)"
    }
  ],
  "metadata": {
    "kernelspec": {
      "name": "python3",
      "display_name": "Python 3",
      "language": "python"
    },
    "language_info": {
      "mimetype": "text/x-python",
      "nbconvert_exporter": "python",
      "name": "python",
      "file_extension": ".py",
      "version": "3.5.4",
      "pygments_lexer": "ipython3",
      "codemirror_mode": {
        "version": 3,
        "name": "ipython"
      }
    }
  },
  "nbformat": 4,
  "nbformat_minor": 2
}