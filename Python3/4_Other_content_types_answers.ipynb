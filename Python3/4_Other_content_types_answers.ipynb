{
  "cells": [
    {
      "metadata": {},
      "cell_type": "markdown",
      "source": "## Exercises 4 – answers \n\n1\\. Get the gene tree predicted for the gene ENSG00000189221 in full nh format. "
    },
    {
      "metadata": {
        "trusted": true
      },
      "cell_type": "code",
      "source": "import requests, sys, json\n\ndef fetch_endpoint(server, request, content_type):\n\n    r = requests.get(server+request, headers={ \"Accept\" : content_type})\n\n    if not r.ok:\n        r.raise_for_status()\n        sys.exit()\n\n    if content_type == 'application/json':\n        return r.json()\n    else:\n        return r.text\n\ngene_id = \"ENSG00000189221\"\n\n# define the general URL parameters\nserver = \"http://rest.ensembl.org/\"\next_gt = \"genetree/member/id/\" + gene_id + \"?nh_format=full;\"\ngt_content_type = \"text/x-nh\"\nget_gt = fetch_endpoint(server, ext_gt, gt_content_type)\n\nprint (get_gt)",
      "execution_count": null,
      "outputs": []
    },
    {
      "metadata": {},
      "cell_type": "markdown",
      "source": "2\\. Get the sequence of the gene ENSG00000157764 in FASTA."
    },
    {
      "metadata": {
        "trusted": true
      },
      "cell_type": "code",
      "source": "import requests, sys, json\n\ndef fetch_endpoint(server, request, content_type):\n\n    r = requests.get(server+request, headers={ \"Accept\" : content_type})\n\n    if not r.ok:\n        r.raise_for_status()\n        sys.exit()\n\n    if content_type == 'application/json':\n        return r.json()\n    else:\n        return r.text\n\ngene = \"ENSG00000157764\"\nserver = \"http://rest.ensembl.org/\"\next_get_seq = \"/sequence/id/\" + gene + \"?\";\n\nget_seq = fetch_endpoint(server, ext_get_seq, \"text/x-fasta\")\n\n# print the gene name, ID and sequence\nprint (get_seq)",
      "execution_count": null,
      "outputs": []
    },
    {
      "metadata": {},
      "cell_type": "markdown",
      "source": "[Next page: Linking endpoints together](5_Linking_endpoints_together.ipynb)"
    }
  ],
  "metadata": {
    "kernelspec": {
      "name": "python3",
      "display_name": "Python 3",
      "language": "python"
    },
    "language_info": {
      "mimetype": "text/x-python",
      "nbconvert_exporter": "python",
      "name": "python",
      "pygments_lexer": "ipython3",
      "version": "3.5.4",
      "file_extension": ".py",
      "codemirror_mode": {
        "version": 3,
        "name": "ipython"
      }
    }
  },
  "nbformat": 4,
  "nbformat_minor": 2
}