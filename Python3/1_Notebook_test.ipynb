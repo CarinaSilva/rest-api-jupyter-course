{
  "cells": [
    {
      "metadata": {},
      "cell_type": "markdown",
      "source": "# Test your Notebook\n\nTo test that you have correctly cloned the notebook, run the script below. Select the box containing the code, then click on the Run button above."
    },
    {
      "metadata": {
        "trusted": true
      },
      "cell_type": "code",
      "source": "print (\"hello world!\")",
      "execution_count": null,
      "outputs": []
    },
    {
      "metadata": {},
      "cell_type": "markdown",
      "source": "Write some basic code in the box below, then run that."
    },
    {
      "metadata": {
        "trusted": true
      },
      "cell_type": "code",
      "source": "# Your code here:",
      "execution_count": null,
      "outputs": []
    },
    {
      "metadata": {},
      "cell_type": "markdown",
      "source": "[Start the course](https://restapipython-ensembltraining.notebooks.azure.com/j/notebooks/1_REST_calls%20in%20the%20browser.ipynb)"
    }
  ],
  "metadata": {
    "kernelspec": {
      "name": "python36",
      "display_name": "Python 3.6",
      "language": "python"
    },
    "language_info": {
      "mimetype": "text/x-python",
      "nbconvert_exporter": "python",
      "name": "python",
      "pygments_lexer": "ipython3",
      "version": "3.6.6",
      "file_extension": ".py",
      "codemirror_mode": {
        "version": 3,
        "name": "ipython"
      }
    }
  },
  "nbformat": 4,
  "nbformat_minor": 2
}