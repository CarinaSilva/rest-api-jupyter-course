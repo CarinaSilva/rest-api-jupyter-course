{
  "cells": [
    {
      "metadata": {
        "collapsed": true
      },
      "cell_type": "markdown",
      "source": "## Exercises 6 – answers\n\n1\\. Fetch the all the transcripts of barley BCH1 using the lookup function. Fetch the cDNA sequences of all transcripts using a single POST request, and print in FASTA format."
    },
    {
      "metadata": {
        "trusted": true
      },
      "cell_type": "code",
      "source": "library(httr)\nlibrary(jsonlite)\n\nfetch_endpoint <- function(server, request, content_type){\n\n    r <- GET(paste(server, request, sep = \"\"), accept(content_type))\n\n    stop_for_status(r)\n\n    if (content_type == 'application/json'){\n        return (fromJSON(content(r, \"text\", encoding = \"UTF-8\")))\n    } else {\n        return (content(r, \"text\", encoding = \"UTF-8\"))\n    }\n}\n\nfetch_endpoint_POST <- function(server, request, data, content_type='application/json'){\n\n    r <- POST(paste(server, request, sep = \"\"), content_type(\"application/json\"), accept(\"application/json\"), body = data)\n\n    stop_for_status(r)\n\n    if (content_type == 'application/json'){\n        return (fromJSON(content(r, \"text\", encoding = \"UTF-8\")))\n    } else {\n        return (content(r, \"text\", encoding = \"UTF-8\"))\n    }\n}\n\n# define the gene name\ngene_name <- \"BCH1\"\ntranscripts <- vector()\n\n# define the general URL parameters\nserver <- \"http://rest.ensembl.org/\"\ncon <- \"application/json\"\n\n# define REST query to get the gene ID from the gene name\next_get_gene <- paste(\"lookup/symbol/hordeum_vulgare/\", gene_name, \"?expand=1;\", sep =\"\")\n\nget_gene <- fetch_endpoint(server, ext_get_gene, con)\n\n# make a vector of the transcripts then convert to a json object\ntranscripts <- get_gene$Transcript$id\ndata <- toJSON(list(ids=transcripts))\n\next_sequence <- '/sequence/id/'\nsequences <- fetch_endpoint_POST(server, ext_sequence, data, con)\n\nsequences[, c(\"id\", \"seq\")]",
      "execution_count": null,
      "outputs": []
    },
    {
      "metadata": {},
      "cell_type": "markdown",
      "source": "2\\. You have the following list of *Sorghum bicolor* variants:\n```tmp_3_5074295_G_A, tmp_3_5074341_T_G, tmp_3_5074428_A_CG, tmp_3_5074453_C_A, S10_10039859```. Get the variant class, source and the most_severe_consequence for all variants using the variant POST endpoint."
    },
    {
      "metadata": {
        "trusted": true
      },
      "cell_type": "code",
      "source": "library(httr)\nlibrary(jsonlite)\n\nfetch_endpoint <- function(server, request, content_type){\n\n    r <- GET(paste(server, request, sep = \"\"), accept(content_type))\n\n    stop_for_status(r)\n\n    if (content_type == 'application/json'){\n        return (fromJSON(content(r, \"text\", encoding = \"UTF-8\")))\n    } else {\n        return (content(r, \"text\", encoding = \"UTF-8\"))\n    }\n}\n\nfetch_endpoint_POST <- function(server, request, data, content_type='application/json'){\n\n    r <- POST(paste(server, request, sep = \"\"), content_type(\"application/json\"), accept(\"application/json\"), body = data)\n\n    stop_for_status(r)\n\n    if (content_type == 'application/json'){\n        return (fromJSON(content(r, \"text\", encoding = \"UTF-8\")))\n    } else {\n        return (content(r, \"text\", encoding = \"UTF-8\"))\n    }\n}\n\n# define the general URL parameters\nserver <- \"http://rest.ensembl.org/\"\ncon <- \"application/json\"\n\n# make a vector listing all the variants then convert to a json list\nvariants <- c(\"tmp_3_5074295_G_A\", \"tmp_3_5074341_T_G\", \"tmp_3_5074428_A_CG\", \"tmp_3_5074453_C_A\", \"S10_10039859\")\ndata <- toJSON(list(ids=variants))\n\n# run a post query with the list of variants\nvar_ext <- \"variation/sorghum_bicolor\"\npost_variants <- fetch_endpoint_POST(server, var_ext, data, con)\n\nfor (variant in post_variants){\n    print( paste(variant$name, variant$var_class, variant$source, variant$most_severe_consequence, sep = \", \"))\n}",
      "execution_count": null,
      "outputs": []
    },
    {
      "metadata": {},
      "cell_type": "markdown",
      "source": "[Next page: Rate limiting](7_Rate_limiting.ipynb)"
    }
  ],
  "metadata": {
    "kernelspec": {
      "name": "r",
      "display_name": "R",
      "language": "R"
    },
    "language_info": {
      "mimetype": "text/x-r-source",
      "name": "R",
      "pygments_lexer": "r",
      "version": "3.5.3",
      "file_extension": ".r",
      "codemirror_mode": "r"
    }
  },
  "nbformat": 4,
  "nbformat_minor": 2
}