{
  "cells": [
    {
      "metadata": {
        "collapsed": true
      },
      "cell_type": "markdown",
      "source": "# Using results\n\nThe fromJSON module we used to pull out the data converts it to a dataframe, so you can pull out a single datapoint using the key.\n\n```\n{'assembly_name': 'IWGSC',\n 'biotype': 'protein_coding',\n 'db_type': 'core',\n 'end': 2603119,\n 'id': 'TraesCS3D02G007500',\n 'logic_name': 'iwgsc_high_conf',\n 'object_type': 'Gene',\n 'seq_region_name': '3D',\n 'source': 'IWGSC',\n 'species': 'triticum_aestivum',\n 'start': 2600356,\n 'strand': -1}\n```\n\n\nWe can add this to our previous script:"
    },
    {
      "metadata": {
        "trusted": true
      },
      "cell_type": "code",
      "source": "library(httr)\nlibrary(jsonlite)\n\nfetch_endpoint <- function(server, request, content_type){\n\n    r <- GET(paste(server, request, sep = \"\"), accept(content_type))\n\n    stop_for_status(r)\n\n    if (content_type == 'application/json'){\n        return (fromJSON(content(r, \"text\", encoding = \"UTF-8\")))\n    } else {\n        return (content(r, \"text\", encoding = \"UTF-8\"))\n    }\n}\n\nserver <- \"http://rest.ensembl.org/\"\next <- \"lookup/id/TraesCS3D02G007500?\"\ncon <- \"application/json\"\nget_gene <- fetch_endpoint(server, ext, con)\n\nlogic_name <- get_gene$logic_name\n\ncat(logic_name)",
      "execution_count": null,
      "outputs": []
    },
    {
      "metadata": {},
      "cell_type": "markdown",
      "source": "## Exercises 3\n\n1\\. Write a script to lookup the gene called BCH1 in barley and print the stable ID of this gene."
    },
    {
      "metadata": {
        "trusted": true
      },
      "cell_type": "code",
      "source": "# Exercise 3.1",
      "execution_count": null,
      "outputs": []
    },
    {
      "metadata": {},
      "cell_type": "markdown",
      "source": "2\\. Get all phenotypes that are associated with variants in the *Arabidopsis thaliana* gene AT3G52430. For each variant print:\n\n   a. The variant ID.\n   \n   b. The external reference.\n   \n   c. The phenotype."
    },
    {
      "metadata": {
        "trusted": true
      },
      "cell_type": "code",
      "source": "# Exercise 3.2",
      "execution_count": null,
      "outputs": []
    },
    {
      "metadata": {},
      "cell_type": "markdown",
      "source": "3\\. Get the maize (*Zea mays*) homologue of the *Arabidopsis thaliana* CP33 and print the ID and sequence of both.\n\nNote that the JSON for the endpoint you need is several layers deep, containing nested lists (appear as square brackets [ ] in the JSON) and key value sets (appear as curly brackets { } in the JSON). Prettify comes in very useful here for the intermediate stage when you're trying to work out the json."
    },
    {
      "metadata": {
        "trusted": true
      },
      "cell_type": "code",
      "source": "# Exercise 3.3",
      "execution_count": null,
      "outputs": []
    },
    {
      "metadata": {},
      "cell_type": "markdown",
      "source": "[Next page: Exercises 3 – answers](3_Using_results_answers.ipynb)"
    }
  ],
  "metadata": {
    "kernelspec": {
      "name": "r",
      "display_name": "R",
      "language": "R"
    },
    "language_info": {
      "mimetype": "text/x-r-source",
      "name": "R",
      "pygments_lexer": "r",
      "version": "3.5.3",
      "file_extension": ".r",
      "codemirror_mode": "r"
    }
  },
  "nbformat": 4,
  "nbformat_minor": 2
}