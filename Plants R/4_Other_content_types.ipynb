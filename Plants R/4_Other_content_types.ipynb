{
  "cells": [
    {
      "metadata": {
        "collapsed": true
      },
      "cell_type": "markdown",
      "source": "# Other content types\n\nIf you specify another content type (not json), the helper function will get you this as text\nThis can be used to get:\n* Sequence in FASTA\n* Gene trees and homologues in various formats\n* Alignments"
    },
    {
      "metadata": {
        "trusted": true
      },
      "cell_type": "code",
      "source": "if (content_type == 'application/json'){\n    return (fromJSON(content(r, \"text\", encoding = \"UTF-8\")))\n} else {\n    return (content(r, \"text\", encoding = \"UTF-8\"))\n}",
      "execution_count": null,
      "outputs": []
    },
    {
      "metadata": {},
      "cell_type": "markdown",
      "source": "The [REST documentation](https://github.com/Ensembl/ensembl-rest/wiki/Output-formats) lists how you specify the output formats.\n\nFor example, to get genome features in BED, you need to specify the content type as `text/x-bed` not just `bed`:"
    },
    {
      "metadata": {
        "trusted": true
      },
      "cell_type": "code",
      "source": "library(httr)\nlibrary(jsonlite)\n\nfetch_endpoint <- function(server, request, content_type){\n\n    r <- GET(paste(server, request, sep = \"\"), accept(content_type))\n\n    stop_for_status(r)\n\n    if (content_type == 'application/json'){\n        return (fromJSON(content(r, \"text\", encoding = \"UTF-8\")))\n    } else {\n        return (content(r, \"text\", encoding = \"UTF-8\"))\n    }\n}\n\nlocus <- \"2:6129736..6845617\"\nserver <- \"http://rest.ensembl.org/\"\next_get_bed <- paste(\"overlap/region/oryza_sativa/\", locus, \"?feature=repeat\", sep = \"\")\ncon <- \"text/x-bed\"\n\nget_bed <- fetch_endpoint(server, ext_get_bed, con)\n\n# print the bed file\ncat(get_bed)",
      "execution_count": null,
      "outputs": []
    },
    {
      "metadata": {},
      "cell_type": "markdown",
      "source": "## Exercises 4 \n\n1\\. Get the gene tree predicted for the gene Pp3c2_11370 in full nh format. "
    },
    {
      "metadata": {
        "trusted": true
      },
      "cell_type": "code",
      "source": "# Exercise 4.1",
      "execution_count": null,
      "outputs": []
    },
    {
      "metadata": {},
      "cell_type": "markdown",
      "source": "2\\. Get the sequence of the gene TraesCS4A02G446800 in FASTA format."
    },
    {
      "metadata": {
        "trusted": true
      },
      "cell_type": "code",
      "source": "# Exercise 4.2",
      "execution_count": null,
      "outputs": []
    },
    {
      "metadata": {},
      "cell_type": "markdown",
      "source": "[Next page: Exercises 4 – answers](4_Other_content_types_answers.ipynb)"
    }
  ],
  "metadata": {
    "kernelspec": {
      "name": "r",
      "display_name": "R",
      "language": "R"
    },
    "language_info": {
      "mimetype": "text/x-r-source",
      "name": "R",
      "pygments_lexer": "r",
      "version": "3.5.3",
      "file_extension": ".r",
      "codemirror_mode": "r"
    }
  },
  "nbformat": 4,
  "nbformat_minor": 2
}