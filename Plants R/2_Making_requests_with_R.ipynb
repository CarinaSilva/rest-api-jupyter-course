{
  "cells": [
    {
      "metadata": {
        "collapsed": true
      },
      "cell_type": "markdown",
      "source": "# Making requests with R\n\nTo make a request, you'll need to specify the server and extension. Printing the request will give you the response code."
    },
    {
      "metadata": {
        "trusted": true
      },
      "cell_type": "code",
      "source": "library(httr)\nlibrary(jsonlite)\n\nserver <- \"http://rest.ensembl.org\"\next <- \"/lookup/id/TraesCS3D02G007500\"\n\nr <- GET(paste(server, ext, sep = \"\"), accept(\"application/json\"))\n\nr",
      "execution_count": null,
      "outputs": []
    },
    {
      "metadata": {},
      "cell_type": "markdown",
      "source": "In most cases, you only want to see the response code of failed requests, so you can use the httr module stop_for_status"
    },
    {
      "metadata": {
        "trusted": true
      },
      "cell_type": "code",
      "source": "library(httr)\nlibrary(jsonlite)\n\nserver <- \"http://rest.ensembl.org\"\next <- \"/lookup/id/TraesCS3D02G007500\"\n\nr <- GET(paste(server, ext, sep = \"\"), accept(\"application/json\"))\n\nstop_for_status(r)\n\n",
      "execution_count": null,
      "outputs": []
    },
    {
      "metadata": {},
      "cell_type": "markdown",
      "source": "The httr library includes a module that gets the text of the response, and the jsonlite library can use this as input to decode the json. I've used the prettify command to print, which makes my json easy to read. You'll find this useful during the exercises to see how the json looks."
    },
    {
      "metadata": {
        "trusted": true
      },
      "cell_type": "code",
      "source": "library(httr)\nlibrary(jsonlite)\n\nserver <- \"http://rest.ensembl.org\"\next <- \"/lookup/id/TraesCS3D02G007500\"\n\nr <- GET(paste(server, ext, sep = \"\"), accept(\"application/json\"))\n\nstop_for_status(r)\n\nprettify(content(r, \"text\", encoding = \"UTF-8\"))",
      "execution_count": null,
      "outputs": []
    },
    {
      "metadata": {},
      "cell_type": "markdown",
      "source": "The helper function allows you to call the request, check the status and decode the json in a single line in your script. If you're using lots of REST calls in your script, creating the function at the beginning of your script will save you a lot of time"
    },
    {
      "metadata": {
        "trusted": true
      },
      "cell_type": "code",
      "source": "library(httr)\nlibrary(jsonlite)\n\nfetch_endpoint <- function(server, request, content_type){\n\n    r <- GET(paste(server, request, sep = \"\"), accept(content_type))\n\n    stop_for_status(r)\n\n    if (content_type == 'application/json'){\n        return (fromJSON(content(r, \"text\", encoding = \"UTF-8\")))\n    } else {\n        return (content(r, \"text\", encoding = \"UTF-8\"))\n    }\n}\n\nserver <- \"http://rest.ensembl.org/\"\next <- \"/lookup/id/TraesCS3D02G007500\"\ncon <- \"application/json\"\nget_gene <- fetch_endpoint(server, ext, con)\n\nprettify(toJSON(get_gene))",
      "execution_count": null,
      "outputs": []
    },
    {
      "metadata": {},
      "cell_type": "markdown",
      "source": "# Exercises 2\n\n1. Write a script to **lookup** the gene called *BCH1* in barley and print the results in json."
    },
    {
      "metadata": {
        "trusted": true
      },
      "cell_type": "code",
      "source": "# Exercise 2",
      "execution_count": null,
      "outputs": []
    },
    {
      "metadata": {},
      "cell_type": "markdown",
      "source": "[Next page: Exercises 2 – answers](2_Making_requests_with_R_answers.ipynb)"
    }
  ],
  "metadata": {
    "kernelspec": {
      "name": "r",
      "display_name": "R",
      "language": "R"
    },
    "language_info": {
      "mimetype": "text/x-r-source",
      "name": "R",
      "pygments_lexer": "r",
      "version": "3.5.3",
      "file_extension": ".r",
      "codemirror_mode": "r"
    }
  },
  "nbformat": 4,
  "nbformat_minor": 2
}